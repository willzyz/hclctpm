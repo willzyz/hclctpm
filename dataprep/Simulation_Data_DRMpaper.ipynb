{
 "cells": [
  {
   "cell_type": "markdown",
   "metadata": {},
   "source": [
    "# Simulation to generate data set for DRM paper backtest"
   ]
  },
  {
   "cell_type": "code",
   "execution_count": 31,
   "metadata": {},
   "outputs": [
    {
     "name": "stdout",
     "output_type": "stream",
     "text": [
      "The autoreload extension is already loaded. To reload it, use:\n",
      "  %reload_ext autoreload\n"
     ]
    }
   ],
   "source": [
    "import sys\n",
    "sys.path.append('/Users/shuyangduuber.com/Desktop/sapphire_optimization/')\n",
    "import pandas as pd\n",
    "import numpy as np\n",
    "import seaborn as sns\n",
    "from matplotlib import pyplot as plt\n",
    "from sklearn.utils import resample\n",
    "from xgboost import XGBRegressor\n",
    "import scipy.stats as st\n",
    "from sklearn.metrics import mean_absolute_error, r2_score\n",
    "from sklearn.model_selection import train_test_split\n",
    "from sklearn.linear_model import Lasso\n",
    "\n",
    "from sapphire_optimization.models.models_targeting.core.cost_curve import CostCurve\n",
    "from sapphire_optimization.models.models_targeting.models.drm.drm_gradient import DRM_Gradient\n",
    "from sapphire_optimization.models.models_targeting.core.data_transform_flow_targeting import DataTransformFlowTargeting\n",
    "from sapphire_optimization.models.models_targeting.core.model_flow import ModelFlow\n",
    "\n",
    "from sapphire_optimization.models.models_cte.models.r_learner import RLearnerRidge, RLearnerXGBT\n",
    "from sapphire_optimization.models.models_cte.core.data_transform_flow_cte import DataTransformFlowCTE\n",
    "from sapphire_optimization.models.models_cte.core.model_flow_cte import ModelFlowCTE\n",
    "\n",
    "from sapphire_optimization.models.core.data_transform_flow import DataTransformFlow\n",
    "from sapphire_optimization.models.core.model_flow_base import ModelFlowBase\n",
    "\n",
    "from research.models.core.backtest import BackTest\n",
    "from research.models.core.backtest_space import BackTestSpace\n",
    "from sapphire_optimization.models.models_targeting.data.schema.rxgy_adrm import schema\n",
    "\n",
    "from IPython.display import display\n",
    "from copy import deepcopy\n",
    "\n",
    "%matplotlib inline\n",
    "%load_ext autoreload\n",
    "%autoreload 2\n",
    "%config InlineBackend.figure_format = 'retina'\n",
    "sns.set()"
   ]
  },
  {
   "cell_type": "markdown",
   "metadata": {},
   "source": [
    "# Load data"
   ]
  },
  {
   "cell_type": "code",
   "execution_count": 23,
   "metadata": {},
   "outputs": [
    {
     "name": "stderr",
     "output_type": "stream",
     "text": [
      "/Users/shuyangduuber.com/Desktop/sapphire_optimization/env/lib/python2.7/site-packages/IPython/core/interactiveshell.py:2714: DtypeWarning: Columns (8,9,10,11,13,19) have mixed types. Specify dtype option on import or set low_memory=False.\n",
      "  interactivity=interactivity, compiler=compiler, result=result)\n"
     ]
    }
   ],
   "source": [
    "df_all = pd.read_csv(\n",
    "    '/Users/shuyangduuber.com/Desktop/data/advanced_promo/rxgy_adrm_train_multimetric_US_20190602_20190804.csv'\n",
    ")"
   ]
  },
  {
   "cell_type": "code",
   "execution_count": 24,
   "metadata": {},
   "outputs": [
    {
     "data": {
      "text/plain": [
       "Index([u'rider_uuid', u'promo_city_id', u'cohort', u'proposal_start_datestr',\n",
       "       u'rating_2driver_min_avg_84d', u'trip_incomplete_total_84d',\n",
       "       u'days_active_84d', u'days_since_trip_first_lifetime',\n",
       "       u'days_since_last_hard_churn_lifetime',\n",
       "       u'days_since_last_soft_churn_lifetime', u'fare_max_sd_84d',\n",
       "       u'churns_hard_lifetime', u'trips_lifetime', u'fare_max_p50_84d',\n",
       "       u'duration_session_pre_request_max_p50_84d', u'trip_pool_per_x_84d',\n",
       "       u'fare_total_win7d_sd_84d', u'trip_complete_win7d_sd_84d',\n",
       "       u'session_per_days_active_84d', u'churns_soft_lifetime',\n",
       "       u'trip_complete_per_days_active_84d', u'trip_pool_prc_84d',\n",
       "       u'session_background_pre_request_prc_84d', u'session_lt_1m_prc_84d',\n",
       "       u'session_request_prc_84d', u'duration_session_outside_total_prc_84d',\n",
       "       u'trip_x_prc_84d', u'days_since_trip_last_lifetime',\n",
       "       u'channel_signup_lifetime', u'device_os_primary_lifetime',\n",
       "       u'promo_used_84d', u'has_session_request_84d',\n",
       "       u'has_session_without_request_84d', u'action_set_id', u'rx_low',\n",
       "       u'rx_high', u'gy_low', u'gy_high', u'gy_initial', u'initial_tier',\n",
       "       u'label_trip_28d', u'label_cost_28d', u'label_billing_usd_28d',\n",
       "       u'label_gb_usd_28d', u'label_vc_usd_28d'],\n",
       "      dtype='object')"
      ]
     },
     "execution_count": 24,
     "metadata": {},
     "output_type": "execute_result"
    }
   ],
   "source": [
    "df_all.columns"
   ]
  },
  {
   "cell_type": "code",
   "execution_count": 25,
   "metadata": {},
   "outputs": [],
   "source": [
    "value_col = 'label_trip_28d'\n",
    "cost_col = 'label_cost_28d'"
   ]
  },
  {
   "cell_type": "markdown",
   "metadata": {},
   "source": [
    "# Use all data to train a simulator"
   ]
  },
  {
   "cell_type": "code",
   "execution_count": 26,
   "metadata": {},
   "outputs": [
    {
     "data": {
      "text/html": [
       "<div>\n",
       "<style>\n",
       "    .dataframe thead tr:only-child th {\n",
       "        text-align: right;\n",
       "    }\n",
       "\n",
       "    .dataframe thead th {\n",
       "        text-align: left;\n",
       "    }\n",
       "\n",
       "    .dataframe tbody tr th {\n",
       "        vertical-align: top;\n",
       "    }\n",
       "</style>\n",
       "<table border=\"1\" class=\"dataframe\">\n",
       "  <thead>\n",
       "    <tr style=\"text-align: right;\">\n",
       "      <th></th>\n",
       "      <th>count</th>\n",
       "      <th>Treatment Prct</th>\n",
       "      <th>Inc Cost Sum</th>\n",
       "      <th>Inc Cost P-val</th>\n",
       "      <th>Inc Value Sum</th>\n",
       "      <th>Inc Value P-val</th>\n",
       "      <th>CPIV</th>\n",
       "    </tr>\n",
       "  </thead>\n",
       "  <tbody>\n",
       "    <tr>\n",
       "      <th>0</th>\n",
       "      <td>1972139.0</td>\n",
       "      <td>0.79957</td>\n",
       "      <td>1.535838e+07</td>\n",
       "      <td>0.0</td>\n",
       "      <td>1.048864e+06</td>\n",
       "      <td>0.0</td>\n",
       "      <td>14.64287</td>\n",
       "    </tr>\n",
       "  </tbody>\n",
       "</table>\n",
       "</div>"
      ],
      "text/plain": [
       "       count  Treatment Prct  Inc Cost Sum  Inc Cost P-val  Inc Value Sum  \\\n",
       "0  1972139.0         0.79957  1.535838e+07             0.0   1.048864e+06   \n",
       "\n",
       "   Inc Value P-val      CPIV  \n",
       "0              0.0  14.64287  "
      ]
     },
     "execution_count": 26,
     "metadata": {},
     "output_type": "execute_result"
    }
   ],
   "source": [
    "CostCurve.sample_stats(df_all[[value_col, cost_col, 'cohort']].values)"
   ]
  },
  {
   "cell_type": "markdown",
   "metadata": {},
   "source": [
    "# Simulator\n",
    "$Y(X_i)=b(X_i)+W_i\\tau(X_i)+\\epsilon_i$"
   ]
  },
  {
   "cell_type": "code",
   "execution_count": 36,
   "metadata": {},
   "outputs": [],
   "source": [
    "class SimulatedDataGenerator(object):\n",
    "    def __init__(self, model_tau=None, model_b=None):\n",
    "        \n",
    "        # model for true tau and b\n",
    "        self.model_tau = model_tau\n",
    "        self.model_b = model_b\n",
    "        self.sigma = None\n",
    "        self.mf_tau = None\n",
    "        self.mf_b = None\n",
    "    \n",
    "    def generate_df(self, df=None, y_col=None, w_col='cohort'):\n",
    "        \n",
    "        dtf_tau = DataTransformFlowCTE(\n",
    "            label_cols=[y_col, w_col],\n",
    "            numerical_cols=schema.CONTINUOUS_COLS,\n",
    "            categorical_cols=schema.CATEGORICAL_COLS,\n",
    "            log_cols=schema.LOG_COLS,\n",
    "            use_scale=True,\n",
    "            use_pca=False,\n",
    "            use_dummy=True,\n",
    "        )\n",
    "        \n",
    "        dtf_b = DataTransformFlow(\n",
    "            label_cols=[y_col],\n",
    "            numerical_cols=schema.RIDER_CONTINUOUS_COLS,\n",
    "            categorical_cols=schema.RIDER_CATEGORICAL_COLS,\n",
    "            log_cols=schema.LOG_COLS,\n",
    "            use_scale=True,\n",
    "            use_pca=False,\n",
    "            use_dummy=True,\n",
    "        )\n",
    "        \n",
    "        self.mf_tau = ModelFlowCTE(model=self.model_tau, data_transform_flow=dtf_tau)\n",
    "        self.mf_b = ModelFlow(model=self.model_b, data_transform_flow=dtf_b)\n",
    "        \n",
    "        tau = self.mf_tau.fit_predict(df)\n",
    "        b = self.mf_b.fit_predict(df)\n",
    "        \n",
    "        # calculate empirical sigma\n",
    "        w = (df[w_col]=='treatment').astype(int)\n",
    "        e = df[y_col] - tau * w - b\n",
    "        self.sigma = e.std()\n",
    "        \n",
    "        # add simulated y to df\n",
    "        y = b + tau * w + np.random.normal(scale=self.sigma, size=len(df))\n",
    "        \n",
    "        return pd.DataFrame(\n",
    "            np.stack([tau, b, y], axis=1),\n",
    "            columns = ['{0}_{1}'.format(s, y_col) for s in ['tau', 'b', 'y']]\n",
    "        )"
   ]
  },
  {
   "cell_type": "markdown",
   "metadata": {},
   "source": [
    "# Model candidates for simulation"
   ]
  },
  {
   "cell_type": "code",
   "execution_count": 37,
   "metadata": {},
   "outputs": [],
   "source": [
    "model_tau_linear = RLearnerRidge()\n",
    "model_tau_xgboost = RLearnerXGBT()\n",
    "model_b_linear = Lasso()\n",
    "model_b_xgboost = XGBRegressor()"
   ]
  },
  {
   "cell_type": "markdown",
   "metadata": {},
   "source": [
    "# Generate simulated data for trip count"
   ]
  },
  {
   "cell_type": "code",
   "execution_count": 38,
   "metadata": {},
   "outputs": [],
   "source": [
    "simulator_trip = SimulatedDataGenerator(model_tau=model_tau_linear, model_b=model_b_linear)\n",
    "# can also use xgboost model as simulator\n",
    "# simulator_trip = SimulatedDataGenerator(model_tau=model_tau_xgboost, model_b=model_b_xgboost)"
   ]
  },
  {
   "cell_type": "code",
   "execution_count": 39,
   "metadata": {},
   "outputs": [],
   "source": [
    "df_sim_trip = simulator_trip.generate_df(df=df_all, y_col=value_col)"
   ]
  },
  {
   "cell_type": "code",
   "execution_count": 41,
   "metadata": {},
   "outputs": [],
   "source": [
    "simulator_cost = SimulatedDataGenerator(model_tau=model_tau_linear, model_b=model_b_linear)\n",
    "# can also use xgboost model as simulator\n",
    "# simulator_cost = SimulatedDataGenerator(model_tau=model_tau_xgboost, model_b=model_b_xgboost)"
   ]
  },
  {
   "cell_type": "code",
   "execution_count": 42,
   "metadata": {},
   "outputs": [],
   "source": [
    "df_sim_cost = simulator_cost.generate_df(df=df_all, y_col=cost_col)"
   ]
  },
  {
   "cell_type": "code",
   "execution_count": 43,
   "metadata": {},
   "outputs": [],
   "source": [
    "df_all_sim = pd.concat([df_all, df_sim_trip, df_sim_cost], axis=1)"
   ]
  },
  {
   "cell_type": "markdown",
   "metadata": {},
   "source": [
    "# Sanity check for simulated y"
   ]
  },
  {
   "cell_type": "code",
   "execution_count": 45,
   "metadata": {},
   "outputs": [
    {
     "data": {
      "text/html": [
       "<div>\n",
       "<style>\n",
       "    .dataframe thead tr:only-child th {\n",
       "        text-align: right;\n",
       "    }\n",
       "\n",
       "    .dataframe thead th {\n",
       "        text-align: left;\n",
       "    }\n",
       "\n",
       "    .dataframe tbody tr th {\n",
       "        vertical-align: top;\n",
       "    }\n",
       "</style>\n",
       "<table border=\"1\" class=\"dataframe\">\n",
       "  <thead>\n",
       "    <tr style=\"text-align: right;\">\n",
       "      <th></th>\n",
       "      <th>count</th>\n",
       "      <th>Treatment Prct</th>\n",
       "      <th>Inc Cost Sum</th>\n",
       "      <th>Inc Cost P-val</th>\n",
       "      <th>Inc Value Sum</th>\n",
       "      <th>Inc Value P-val</th>\n",
       "      <th>CPIV</th>\n",
       "    </tr>\n",
       "  </thead>\n",
       "  <tbody>\n",
       "    <tr>\n",
       "      <th>0</th>\n",
       "      <td>1972139.0</td>\n",
       "      <td>0.79957</td>\n",
       "      <td>1.535838e+07</td>\n",
       "      <td>0.0</td>\n",
       "      <td>1.048864e+06</td>\n",
       "      <td>0.0</td>\n",
       "      <td>14.64287</td>\n",
       "    </tr>\n",
       "  </tbody>\n",
       "</table>\n",
       "</div>"
      ],
      "text/plain": [
       "       count  Treatment Prct  Inc Cost Sum  Inc Cost P-val  Inc Value Sum  \\\n",
       "0  1972139.0         0.79957  1.535838e+07             0.0   1.048864e+06   \n",
       "\n",
       "   Inc Value P-val      CPIV  \n",
       "0              0.0  14.64287  "
      ]
     },
     "execution_count": 45,
     "metadata": {},
     "output_type": "execute_result"
    }
   ],
   "source": [
    "CostCurve.sample_stats(df_all_sim[[value_col, cost_col, 'cohort']].values)"
   ]
  },
  {
   "cell_type": "code",
   "execution_count": 46,
   "metadata": {},
   "outputs": [
    {
     "data": {
      "text/html": [
       "<div>\n",
       "<style>\n",
       "    .dataframe thead tr:only-child th {\n",
       "        text-align: right;\n",
       "    }\n",
       "\n",
       "    .dataframe thead th {\n",
       "        text-align: left;\n",
       "    }\n",
       "\n",
       "    .dataframe tbody tr th {\n",
       "        vertical-align: top;\n",
       "    }\n",
       "</style>\n",
       "<table border=\"1\" class=\"dataframe\">\n",
       "  <thead>\n",
       "    <tr style=\"text-align: right;\">\n",
       "      <th></th>\n",
       "      <th>count</th>\n",
       "      <th>Treatment Prct</th>\n",
       "      <th>Inc Cost Sum</th>\n",
       "      <th>Inc Cost P-val</th>\n",
       "      <th>Inc Value Sum</th>\n",
       "      <th>Inc Value P-val</th>\n",
       "      <th>CPIV</th>\n",
       "    </tr>\n",
       "  </thead>\n",
       "  <tbody>\n",
       "    <tr>\n",
       "      <th>0</th>\n",
       "      <td>1972139.0</td>\n",
       "      <td>0.79957</td>\n",
       "      <td>1.548902e+07</td>\n",
       "      <td>0.0</td>\n",
       "      <td>1.048940e+06</td>\n",
       "      <td>0.0</td>\n",
       "      <td>14.76635</td>\n",
       "    </tr>\n",
       "  </tbody>\n",
       "</table>\n",
       "</div>"
      ],
      "text/plain": [
       "       count  Treatment Prct  Inc Cost Sum  Inc Cost P-val  Inc Value Sum  \\\n",
       "0  1972139.0         0.79957  1.548902e+07             0.0   1.048940e+06   \n",
       "\n",
       "   Inc Value P-val      CPIV  \n",
       "0              0.0  14.76635  "
      ]
     },
     "execution_count": 46,
     "metadata": {},
     "output_type": "execute_result"
    }
   ],
   "source": [
    "CostCurve.sample_stats(df_all_sim[['y_{}'.format(value_col), 'y_{}'.format(cost_col), 'cohort']].values)"
   ]
  },
  {
   "cell_type": "code",
   "execution_count": null,
   "metadata": {},
   "outputs": [],
   "source": []
  },
  {
   "cell_type": "code",
   "execution_count": 47,
   "metadata": {},
   "outputs": [],
   "source": [
    "df_all_sim.to_csv('/Users/shuyangduuber.com/Desktop/data/advanced_promo/rxgy_adrm_train_multimetric_US_20190602_20190804_simulated.csv')"
   ]
  },
  {
   "cell_type": "code",
   "execution_count": null,
   "metadata": {},
   "outputs": [],
   "source": []
  }
 ],
 "metadata": {
  "kernelspec": {
   "display_name": "Python 2",
   "language": "python",
   "name": "python2"
  },
  "language_info": {
   "codemirror_mode": {
    "name": "ipython",
    "version": 2
   },
   "file_extension": ".py",
   "mimetype": "text/x-python",
   "name": "python",
   "nbconvert_exporter": "python",
   "pygments_lexer": "ipython2",
   "version": "2.7.16"
  }
 },
 "nbformat": 4,
 "nbformat_minor": 2
}
